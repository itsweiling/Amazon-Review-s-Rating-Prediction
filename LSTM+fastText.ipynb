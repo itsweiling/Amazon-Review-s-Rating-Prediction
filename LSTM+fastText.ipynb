{
 "cells": [
  {
   "cell_type": "code",
   "execution_count": 1,
   "id": "6f77664e-c68a-4cc0-a5f2-472088556745",
   "metadata": {},
   "outputs": [],
   "source": [
    "import pandas as pd\n",
    "import numpy as np\n",
    "import tensorflow as tf\n",
    "from tensorflow.keras.models import Sequential\n",
    "from tensorflow.keras.layers import Embedding, LSTM, Dense\n",
    "from tensorflow.keras.preprocessing.text import Tokenizer\n",
    "from tensorflow.keras.preprocessing.sequence import pad_sequences\n",
    "from tensorflow.keras.utils import to_categorical\n",
    "import os\n",
    "from tqdm import tqdm"
   ]
  },
  {
   "cell_type": "code",
   "execution_count": 3,
   "id": "04c7c280-ae9f-4b24-a2d8-1b429af5dc59",
   "metadata": {},
   "outputs": [],
   "source": [
    "data = pd.read_csv('processed_data.csv')"
   ]
  },
  {
   "cell_type": "code",
   "execution_count": 9,
   "id": "55375e9f-b532-4c6c-b0d9-e6122da900d6",
   "metadata": {},
   "outputs": [],
   "source": [
    "X = data['join_processed_review'].astype(str).tolist()\n",
    "y = data['overall'].astype(int)"
   ]
  },
  {
   "cell_type": "code",
   "execution_count": 45,
   "id": "4b3d71f6-31d1-4211-a99e-da0193e71239",
   "metadata": {},
   "outputs": [],
   "source": [
    "tokenizer = Tokenizer()\n",
    "tokenizer.fit_on_texts(X)\n",
    "sequences = tokenizer.texts_to_sequences(X)"
   ]
  },
  {
   "cell_type": "code",
   "execution_count": 49,
   "id": "f98eb681-0d24-4380-8bae-ef81f86b47cb",
   "metadata": {},
   "outputs": [],
   "source": [
    "lengths = [len(seq) for seq in sequences]\n",
    "maxlen = int(np.percentile(lengths, 95))\n",
    "X = pad_sequences(sequences, maxlen=maxlen)\n",
    "y = to_categorical(y)"
   ]
  },
  {
   "cell_type": "code",
   "execution_count": 51,
   "id": "d78720c0-3cd3-4b4b-91ad-236ed9b3a517",
   "metadata": {},
   "outputs": [],
   "source": [
    "word_index = tokenizer.word_index\n",
    "vocab_size = len(word_index) + 1  \n",
    "embedding_dim = 300"
   ]
  },
  {
   "cell_type": "code",
   "execution_count": 53,
   "id": "fcc013f8-ceda-4da7-9108-9cd1e038d12d",
   "metadata": {},
   "outputs": [
    {
     "name": "stderr",
     "output_type": "stream",
     "text": [
      "999994it [01:13, 13645.70it/s]\n"
     ]
    }
   ],
   "source": [
    "embedding_index = {}\n",
    "with open('wiki-news-300d-1M-subword.vec', encoding='utf-8') as f:\n",
    "    next(f)  # Skip header\n",
    "    for line in tqdm(f):\n",
    "        values = line.rstrip().split(' ')\n",
    "        word = values[0]\n",
    "        coefs = np.asarray(values[1:], dtype='float32')\n",
    "        embedding_index[word] = coefs"
   ]
  },
  {
   "cell_type": "code",
   "execution_count": 54,
   "id": "4716bb34-abc8-4bbe-ab1a-b05f736bb0af",
   "metadata": {},
   "outputs": [],
   "source": [
    "embedding_matrix = np.zeros((vocab_size, embedding_dim))\n",
    "for word, i in word_index.items():\n",
    "    if word in embedding_index:\n",
    "        embedding_matrix[i] = embedding_index[word]"
   ]
  },
  {
   "cell_type": "code",
   "execution_count": 55,
   "id": "52fb3580-6729-4b83-a9fd-75e16c4ecfbb",
   "metadata": {},
   "outputs": [
    {
     "name": "stderr",
     "output_type": "stream",
     "text": [
      "C:\\Users\\ling1\\anaconda3\\Lib\\site-packages\\keras\\src\\layers\\core\\embedding.py:90: UserWarning: Argument `input_length` is deprecated. Just remove it.\n",
      "  warnings.warn(\n"
     ]
    }
   ],
   "source": [
    "model = Sequential()\n",
    "model.add(Embedding(\n",
    "    input_dim=vocab_size,\n",
    "    output_dim=embedding_dim,\n",
    "    weights=[embedding_matrix],\n",
    "    input_length=300,\n",
    "    trainable=False\n",
    "))"
   ]
  },
  {
   "cell_type": "code",
   "execution_count": 56,
   "id": "d9086d16-4cec-4028-b64d-d15085fd788f",
   "metadata": {},
   "outputs": [
    {
     "name": "stdout",
     "output_type": "stream",
     "text": [
      "Epoch 1/10\n",
      "123/123 - 19s - 157ms/step - accuracy: 0.7936 - loss: 0.7637 - val_accuracy: 0.7884 - val_loss: 0.7937\n",
      "Epoch 2/10\n",
      "123/123 - 16s - 129ms/step - accuracy: 0.8005 - loss: 0.7418 - val_accuracy: 0.7884 - val_loss: 0.7838\n",
      "Epoch 3/10\n",
      "123/123 - 13s - 105ms/step - accuracy: 0.8005 - loss: 0.7348 - val_accuracy: 0.7884 - val_loss: 0.7804\n",
      "Epoch 4/10\n",
      "123/123 - 11s - 92ms/step - accuracy: 0.8005 - loss: 0.7337 - val_accuracy: 0.7884 - val_loss: 0.7918\n",
      "Epoch 5/10\n",
      "123/123 - 11s - 86ms/step - accuracy: 0.8005 - loss: 0.7357 - val_accuracy: 0.7884 - val_loss: 0.7836\n",
      "Epoch 6/10\n",
      "123/123 - 10s - 78ms/step - accuracy: 0.8005 - loss: 0.7320 - val_accuracy: 0.7884 - val_loss: 0.7764\n",
      "Epoch 7/10\n",
      "123/123 - 9s - 76ms/step - accuracy: 0.8005 - loss: 0.7311 - val_accuracy: 0.7884 - val_loss: 0.7781\n",
      "Epoch 8/10\n",
      "123/123 - 10s - 79ms/step - accuracy: 0.8005 - loss: 0.7310 - val_accuracy: 0.7884 - val_loss: 0.7783\n",
      "Epoch 9/10\n",
      "123/123 - 9s - 72ms/step - accuracy: 0.8005 - loss: 0.7203 - val_accuracy: 0.7884 - val_loss: 0.7816\n",
      "Epoch 10/10\n",
      "123/123 - 9s - 72ms/step - accuracy: 0.8005 - loss: 0.7195 - val_accuracy: 0.7884 - val_loss: 0.7829\n"
     ]
    }
   ],
   "source": [
    "model = Sequential()\n",
    "\n",
    "model.add(Embedding(input_dim=vocab_size, output_dim=300, \n",
    "                    weights=[embedding_matrix], input_length=maxlen, trainable=False))\n",
    "\n",
    "model.add(LSTM(128, return_sequences=True, dropout=0.4, recurrent_dropout=0.4))\n",
    "\n",
    "model.add(LSTM(64, dropout=0.3, recurrent_dropout=0.3))\n",
    "\n",
    "model.add(Dense(32, activation='relu'))\n",
    "\n",
    "model.add(Dense(6, activation='softmax'))\n",
    "\n",
    "model.compile(optimizer=tf.keras.optimizers.Adam(learning_rate=0.01),\n",
    "              loss='categorical_crossentropy',\n",
    "              metrics=['accuracy'])\n",
    "\n",
    "history = model.fit(X, y, epochs=10, batch_size=32, validation_split=0.2, verbose=2)"
   ]
  },
  {
   "cell_type": "code",
   "execution_count": 57,
   "id": "347e5cb7-59f7-4e87-a6b0-3ea6226edfa4",
   "metadata": {},
   "outputs": [
    {
     "name": "stdout",
     "output_type": "stream",
     "text": [
      "Final Validation Accuracy: 78.84%\n"
     ]
    }
   ],
   "source": [
    "val_accuracy = history.history['val_accuracy'][-1]\n",
    "print(f\"Final Validation Accuracy: {val_accuracy * 100:.2f}%\")"
   ]
  },
  {
   "cell_type": "code",
   "execution_count": 58,
   "id": "0ac0d5e9-c8da-4e1b-99a9-ea0f44aabf82",
   "metadata": {},
   "outputs": [
    {
     "name": "stdout",
     "output_type": "stream",
     "text": [
      "Final Training Accuracy: 80.05%\n"
     ]
    }
   ],
   "source": [
    "train_accuracy = history.history['accuracy'][-1]\n",
    "print(f\"Final Training Accuracy: {train_accuracy * 100:.2f}%\")"
   ]
  },
  {
   "cell_type": "code",
   "execution_count": null,
   "id": "a84c694c-4571-43ca-9d99-cee6e4b5a479",
   "metadata": {},
   "outputs": [],
   "source": []
  }
 ],
 "metadata": {
  "kernelspec": {
   "display_name": "Python 3 (ipykernel)",
   "language": "python",
   "name": "python3"
  },
  "language_info": {
   "codemirror_mode": {
    "name": "ipython",
    "version": 3
   },
   "file_extension": ".py",
   "mimetype": "text/x-python",
   "name": "python",
   "nbconvert_exporter": "python",
   "pygments_lexer": "ipython3",
   "version": "3.12.3"
  }
 },
 "nbformat": 4,
 "nbformat_minor": 5
}
